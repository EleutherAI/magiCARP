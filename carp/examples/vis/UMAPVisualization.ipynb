{
 "cells": [
  {
   "cell_type": "markdown",
   "id": "16745685",
   "metadata": {},
   "source": [
    "Much of below code identical to cloobvis notebook. Main difference is addition of a loader that can simplify loading embeddings as if they themselves are the dataset."
   ]
  },
  {
   "cell_type": "code",
   "execution_count": 4,
   "id": "8c044fc6",
   "metadata": {},
   "outputs": [],
   "source": [
    "import torch\n",
    "import sys\n",
    "import matplotlib.pyplot as plt\n",
    "import numpy as np\n",
    "from torch.nn.functional import normalize\n",
    "\n",
    "from carp.configs import CARPConfig\n",
    "from carp.pytorch.model.architectures import *\n",
    "from carp.pytorch.data import *"
   ]
  },
  {
   "cell_type": "code",
   "execution_count": 5,
   "id": "87ea86f7",
   "metadata": {},
   "outputs": [],
   "source": [
    "CHUNK_SIZE = 512\n",
    "N_CTX = 512"
   ]
  },
  {
   "cell_type": "code",
   "execution_count": 7,
   "id": "f7541ac3",
   "metadata": {},
   "outputs": [
    {
     "name": "stderr",
     "output_type": "stream",
     "text": [
      "Some weights of the model checkpoint at roberta-base were not used when initializing RobertaModel: ['lm_head.bias', 'lm_head.layer_norm.weight', 'lm_head.dense.bias', 'lm_head.decoder.weight', 'lm_head.dense.weight', 'lm_head.layer_norm.bias']\n",
      "- This IS expected if you are initializing RobertaModel from the checkpoint of a model trained on another task or with another architecture (e.g. initializing a BertForSequenceClassification model from a BertForPreTraining model).\n",
      "- This IS NOT expected if you are initializing RobertaModel from the checkpoint of a model that you expect to be exactly identical (initializing a BertForSequenceClassification model from a BertForSequenceClassification model).\n",
      "Some weights of the model checkpoint at roberta-base were not used when initializing RobertaModel: ['lm_head.bias', 'lm_head.layer_norm.weight', 'lm_head.dense.bias', 'lm_head.decoder.weight', 'lm_head.dense.weight', 'lm_head.layer_norm.bias']\n",
      "- This IS expected if you are initializing RobertaModel from the checkpoint of a model trained on another task or with another architecture (e.g. initializing a BertForSequenceClassification model from a BertForPreTraining model).\n",
      "- This IS NOT expected if you are initializing RobertaModel from the checkpoint of a model that you expect to be exactly identical (initializing a BertForSequenceClassification model from a BertForSequenceClassification model).\n"
     ]
    }
   ],
   "source": [
    "# Lots of stuff from before now encapsulated in this loader class\n",
    "# Load model\n",
    "config = CARPConfig.load_yaml(\"../../../configs/carp_cloob.yml\")\n",
    "cloob_model = CARPCloob(config.model)\n",
    "cloob_model.load(\"CLOOB_CP/\")\n",
    "cloob_model = cloob_model.cuda()"
   ]
  },
  {
   "cell_type": "code",
   "execution_count": 8,
   "id": "39adab73",
   "metadata": {},
   "outputs": [],
   "source": [
    "# Loader to forward pass and embed embeddings\n",
    "class Loader:\n",
    "    def __init__(self):\n",
    "        pipeline = BaseDataPipeline(path=\"../../dataset\")\n",
    "        self.passages = pipeline.passages\n",
    "        self.reviews = pipeline.reviews\n",
    "        \n",
    "        self.N = len(self.passages) # assume this is equal to len(reviews)\n",
    "        self.ind = 0\n",
    "        \n",
    "        self.preproc()\n",
    "        self.shuffle()\n",
    "    \n",
    "    def preproc(self):\n",
    "        self.passages = [passage[-N_CTX:] for passage in self.passages]\n",
    "        self.reviews = [review[-N_CTX:] for review in self.reviews]\n",
    "        \n",
    "    def shuffle(self):\n",
    "        inds = torch.randperm(self.N)\n",
    "        self.passages = [self.passages[ind] for ind in inds]\n",
    "        self.reviews = [self.reviews[ind] for ind in inds]\n",
    "    \n",
    "    def __iter__(self):\n",
    "        return self\n",
    "    \n",
    "    def __next__(self):\n",
    "        # Get batch\n",
    "        passages = self.passages[self.ind * CHUNK_SIZE : (self.ind+1) * CHUNK_SIZE]\n",
    "        reviews = self.reviews[self.ind * CHUNK_SIZE : (self.ind+1) * CHUNK_SIZE]\n",
    "        \n",
    "        # Tokenize\n",
    "        tokenize = cloob_model.passage_encoder.call_tokenizer\n",
    "        p_tok_out = tokenize(passages)\n",
    "        r_tok_out = tokenize(reviews)\n",
    "        p_input_ids = p_tok_out[\"input_ids\"]\n",
    "        p_masks = p_tok_out[\"attention_mask\"]\n",
    "        r_input_ids = r_tok_out[\"input_ids\"]\n",
    "        r_masks = r_tok_out[\"attention_mask\"]\n",
    "        \n",
    "        p_input = BatchElement(p_input_ids, p_masks)\n",
    "        r_input = BatchElement(r_input_ids, r_masks)\n",
    "        \n",
    "        with torch.no_grad():\n",
    "            pass_encs, rev_encs = \\\n",
    "                cloob_model.calculate_embeddings([p_input], [r_input])\n",
    "        \n",
    "        postproc = lambda x: normalize(x[0].float()).cpu().detach().half()\n",
    "        \n",
    "        pass_encs = postproc(pass_encs)\n",
    "        rev_encs = postproc(rev_encs)\n",
    "        \n",
    "        self.ind += 1\n",
    "        \n",
    "        return pass_encs, rev_encs\n",
    "    \n",
    "    next = __next__\n",
    "            "
   ]
  },
  {
   "cell_type": "code",
   "execution_count": 9,
   "id": "a7c57469",
   "metadata": {},
   "outputs": [],
   "source": [
    "loader = Loader()"
   ]
  },
  {
   "cell_type": "code",
   "execution_count": 13,
   "id": "f9e9e157",
   "metadata": {},
   "outputs": [],
   "source": [
    "# Allocate tensors to store all passage and rev encodings\n",
    "P = torch.zeros(loader.N, 2048, dtype = torch.half)\n",
    "R = torch.zeros(loader.N, 2048, dtype = torch.half)"
   ]
  },
  {
   "cell_type": "code",
   "execution_count": 14,
   "id": "bcf5282a",
   "metadata": {},
   "outputs": [
    {
     "name": "stderr",
     "output_type": "stream",
     "text": [
      "49it [00:49,  1.01s/it]\n"
     ]
    }
   ],
   "source": [
    "from tqdm import tqdm\n",
    "\n",
    "# on 3090 ~45 minutes\n",
    "i = 0\n",
    "for (pass_encs, rev_encs) in tqdm(loader):\n",
    "    P[i:i + CHUNK_SIZE] = pass_encs\n",
    "    R[i:i + CHUNK_SIZE] = rev_encs\n",
    "\n",
    "    i+=CHUNK_SIZE\n",
    "    if (i//CHUNK_SIZE) >= 50: break # for this example, don't do it all"
   ]
  },
  {
   "cell_type": "code",
   "execution_count": 15,
   "id": "b7f853c5",
   "metadata": {},
   "outputs": [],
   "source": [
    "P = P[:i]\n",
    "R = R[:i]"
   ]
  },
  {
   "cell_type": "markdown",
   "id": "262641b6",
   "metadata": {},
   "source": [
    "# UMAP"
   ]
  },
  {
   "cell_type": "code",
   "execution_count": 18,
   "id": "9f0053a3",
   "metadata": {},
   "outputs": [],
   "source": [
    "import umap\n",
    "reducer = umap.UMAP()"
   ]
  },
  {
   "cell_type": "code",
   "execution_count": 19,
   "id": "f524ad5e",
   "metadata": {},
   "outputs": [],
   "source": [
    "P_embed = reducer.fit_transform(P)\n",
    "R_embed = reducer.fit_transform(R)"
   ]
  },
  {
   "cell_type": "code",
   "execution_count": 22,
   "id": "9f516440",
   "metadata": {},
   "outputs": [
    {
     "data": {
      "text/plain": [
       "<matplotlib.collections.PathCollection at 0x7f3eb8c438d0>"
      ]
     },
     "execution_count": 22,
     "metadata": {},
     "output_type": "execute_result"
    },
    {
     "data": {
      "image/png": "[encoded data removed]",
      "text/plain": [
       "<Figure size 432x288 with 1 Axes>"
      ]
     },
     "metadata": {
      "needs_background": "light"
     },
     "output_type": "display_data"
    }
   ],
   "source": [
    "plt.scatter(embedding[:,0], embedding[:,1])"
   ]
  },
  {
   "cell_type": "code",
   "execution_count": 23,
   "id": "fc687990",
   "metadata": {},
   "outputs": [
    {
     "data": {
      "text/plain": [
       "(25600, 2)"
      ]
     },
     "execution_count": 23,
     "metadata": {},
     "output_type": "execute_result"
    }
   ],
   "source": [
    "embedding.shape"
   ]
  },
  {
   "cell_type": "code",
   "execution_count": null,
   "id": "e7e9b7a8",
   "metadata": {},
   "outputs": [],
   "source": []
  }
 ],
 "metadata": {
  "kernelspec": {
   "display_name": "Python 3 (ipykernel)",
   "language": "python",
   "name": "python3"
  },
  "language_info": {
   "codemirror_mode": {
    "name": "ipython",
    "version": 3
   },
   "file_extension": ".py",
   "mimetype": "text/x-python",
   "name": "python",
   "nbconvert_exporter": "python",
   "pygments_lexer": "ipython3",
   "version": "3.7.6"
  }
 },
 "nbformat": 4,
 "nbformat_minor": 5
}
