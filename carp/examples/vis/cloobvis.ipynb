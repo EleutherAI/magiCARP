{
 "cells": [
  {
   "cell_type": "code",
   "execution_count": 1,
   "id": "b147ef90",
   "metadata": {},
   "outputs": [],
   "source": [
    "import torch\n",
    "import sys\n",
    "import matplotlib.pyplot as plt\n",
    "import numpy as np\n",
    "from torch.nn.functional import normalize"
   ]
  },
  {
   "cell_type": "code",
   "execution_count": 2,
   "id": "888c9f81",
   "metadata": {},
   "outputs": [
    {
     "name": "stderr",
     "output_type": "stream",
     "text": [
      "Some weights of the model checkpoint at roberta-base were not used when initializing RobertaModel: ['lm_head.layer_norm.weight', 'lm_head.layer_norm.bias', 'lm_head.dense.weight', 'lm_head.decoder.weight', 'lm_head.bias', 'lm_head.dense.bias']\n",
      "- This IS expected if you are initializing RobertaModel from the checkpoint of a model trained on another task or with another architecture (e.g. initializing a BertForSequenceClassification model from a BertForPreTraining model).\n",
      "- This IS NOT expected if you are initializing RobertaModel from the checkpoint of a model that you expect to be exactly identical (initializing a BertForSequenceClassification model from a BertForSequenceClassification model).\n",
      "Some weights of the model checkpoint at roberta-base were not used when initializing RobertaModel: ['lm_head.layer_norm.weight', 'lm_head.layer_norm.bias', 'lm_head.dense.weight', 'lm_head.decoder.weight', 'lm_head.bias', 'lm_head.dense.bias']\n",
      "- This IS expected if you are initializing RobertaModel from the checkpoint of a model trained on another task or with another architecture (e.g. initializing a BertForSequenceClassification model from a BertForPreTraining model).\n",
      "- This IS NOT expected if you are initializing RobertaModel from the checkpoint of a model that you expect to be exactly identical (initializing a BertForSequenceClassification model from a BertForSequenceClassification model).\n"
     ]
    }
   ],
   "source": [
    "from carp.configs import CARPConfig\n",
    "from carp.pytorch.model.architectures import *\n",
    "from carp.pytorch.data import *\n",
    "\n",
    "# Load model\n",
    "config = CARPConfig.load_yaml(\"configs/carp_cloob.yml\")\n",
    "cloob_model = CARPCloob(config.model)\n",
    "cloob_model.load(\"CLOOB_CP/\")\n",
    "cloob_model = cloob_model.cuda()\n",
    "\n",
    "# Load data\n",
    "pipeline = BaseDataPipeline(path=\"../carp/dataset\")\n",
    "passages = pipeline.passages\n",
    "reviews = pipeline.reviews\n",
    "N = len(passages)"
   ]
  },
  {
   "cell_type": "code",
   "execution_count": 3,
   "id": "e7794ed6",
   "metadata": {},
   "outputs": [],
   "source": [
    "# Sample random batch from dataset\n",
    "def get_random_batch(size):\n",
    "    inds = torch.randint(0, N, (size,))\n",
    "    p = [passages[ind][:512] for ind in inds]\n",
    "    r = [reviews[ind][:512] for ind in inds]\n",
    "\n",
    "    return p, r\n",
    "\n",
    "# Use tokenizer on a batch of passages and reviews\n",
    "def tokenizer_batch(p,  r):\n",
    "    p_tok = cloob_model.passage_encoder.call_tokenizer(p)\n",
    "    r_tok = cloob_model.passage_encoder.call_tokenizer(p)\n",
    "    return p_tok, r_tok\n",
    "\n",
    "# construct batch element from a tokenizer output\n",
    "def make_batch_elem(tok_out):\n",
    "    return BatchElement(tok_out['input_ids'],\n",
    "                       tok_out['attention_mask'])\n",
    "\n",
    "# Sample random batch from dataset and encode it\n",
    "def encode_rand_batch(size):\n",
    "    p_batch_s, r_batch_s = get_random_batch(size)\n",
    "    p_tok, r_tok = tokenizer_batch(p_batch_s, r_batch_s)\n",
    "    p_batch = make_batch_elem(p_tok)\n",
    "    r_batch = make_batch_elem(r_tok)\n",
    "\n",
    "    with torch.no_grad():\n",
    "        pass_encs, rev_encs = \\\n",
    "                cloob_model.calculate_embeddings([p_batch], [r_batch])\n",
    "    # -> [[pass_encs], [rev_encs]]\n",
    "    pass_encs = pass_encs[0].float()\n",
    "    rev_encs = rev_encs[0].float()\n",
    "    \n",
    "    pass_encs = normalize(pass_encs)\n",
    "    rev_encs = normalize(rev_encs)\n",
    "\n",
    "    return (pass_encs, p_batch_s), \\\n",
    "        (rev_encs, r_batch_s)\n",
    "\n",
    "# Given encodings and batch (strings), return PCA result\n",
    "# and batch sorted by first value in PCA vectors\n",
    "def pca_sort(encs, batch):\n",
    "    U,_,_ = torch.pca_lowrank(encs, q = 2)\n",
    "    U = U.detach().cpu().numpy()\n",
    "\n",
    "    # Sort by x value for easier visualization\n",
    "    U = [[u, pass_] for (u, pass_) in zip(U, batch)]\n",
    "    U = sorted(U, key = lambda x: x[0][0])\n",
    "    batch = [x[1] for x in U]\n",
    "\n",
    "    # Get 2d vectors from PCA\n",
    "    U = [x[0] for x in U]\n",
    "\n",
    "    return U, batch"
   ]
  },
  {
   "cell_type": "markdown",
   "id": "de9a4457",
   "metadata": {},
   "source": [
    "# PCA Scatter Plot"
   ]
  },
  {
   "cell_type": "code",
   "execution_count": 65,
   "id": "7d37e948",
   "metadata": {},
   "outputs": [
    {
     "name": "stdout",
     "output_type": "stream",
     "text": [
      "=========================\n",
      "“How long have you known about shifters?” : [-0.44935584  0.34426045]\n",
      "=========================\n",
      "I squeezed hard against myself until I could finally feel that I had wet myself. : [-0.40150386  0.14342217]\n",
      "=========================\n",
      "Whether finally obeying her command or from sheer exhaustion, John0 released his death-grip from Sam0's neck. His head slammed against the ground and his body skidded to a stop. : [-0.2823679  -0.27076918]\n",
      "=========================\n",
      "Life is one eternal round. For every beginning there is an end and for every ending there is a new beginning. SFG 3/23/2019 : [-0.2718608  -0.10658294]\n",
      "=========================\n",
      "“We make the conscious decision whether or not to commit a crime. Everyone plays their cards.” And there’s only four aces in the deck.” : [-0.08532043 -0.04883365]\n",
      "=========================\n",
      "Jane0 stepped over a ham bone and bit her lip to keep from commenting. : [-0.05376008 -0.5780678 ]\n",
      "=========================\n",
      "Amused by his discomfort, Seraphima smiled, feeling a confidence she hadn’t had before. “Come out with it, Sam1 She gestured toward her feet. “As you can see, we’re in the middle of skating through the park.” : [-0.05158641 -0.10857995]\n",
      "=========================\n",
      "They reached the base of a ladder going straight up to a catwalk that encircled the upper third of the drilling truss. There was a semicircle metal barrier covering the ladder to prevent a worker from falling backward. : [-0.00844505  0.15751937]\n",
      "=========================\n",
      "Clearly, that wasn’t an option. Everybody would think I was crazy. How could I describe to another person how infuriating it was for me to be interrupted? How could I explain the angst, the inner turmoil? Help them understand what it was like to be trapped inside your own body, unable to speak? Help them empathize and maybe accommodate me in the future? : [0.00418414 0.03860435]\n",
      "=========================\n",
      "A call came to her again, it was his brother's. \" Hello , Sam0 didi, do you see today's post from Routine of Sam2 Sam3 \"No, why?\" \"The police are so cruel didi. They were shouting at a couple who had gone out to get some medicines. A brave woman wearing a mask came and shouted at the police gave them lift in her own car. She reminded me of you didi!\" My heart sank. : [0.07573867 0.22742689]\n",
      "=========================\n",
      "I was part of those protests, mostly in L.A. We used to gather at any large government building. People assumed I was altered, but I’m not. I’m as natural as they come. But really, dividing altered and unaltered people is dumb, right? Are we so different because they’ve been changed a little when they were cells? They nonetheless got to be born, grew up, experienced the world, fell in love and so on. What if they deliver a baby through a C-section? That’s technically not the natural way of birth, right? So  : [0.1122132 0.1837418]\n",
      "=========================\n",
      "As time passed, I felt more and more discombobulated. I could no longer summon up an image of Sam0's face, with or without John0's teeth. I felt remote from him and put it down to my advancing pregnancy. Three weeks passed, and still Sam0 did not return. In a few more days it would be full moon again, and thus, no reason for him to return until the moon waned. I had begun to wonder if I would recognize him when he would arrive. : [0.14826739 0.13870376]\n",
      "=========================\n",
      "With each passing year it seems my task is teaching young people how to be human. To engage with their consciousness. To think deeply about purpose. To be bored and alone without panicking and reaching for a phone. Of course I could be completely misguided. Perhaps a hundred years from now the pacification of humanity by our devices may be the norm if not the preference. A twenty second century Sam0 search version of nirvana. A way for us all to numb the reality of mortality and the suffering that accompani : [ 0.20392472 -0.13010862]\n",
      "=========================\n",
      "She slapped his hands off. “Don’t you stop it Lucy me.” : [0.29205307 0.14923362]\n",
      "=========================\n",
      "Prudy had obeyed her father and married Sam1 Foote twenty years ago. She could still remember his words on her wedding day, Sam3 a good man is hard to find.\" He rewarded her obedience with a dowry, which included a pig, one hundred pounds of corn seed, one hundred egg laying chickens and a crockpot. All now rested in the Foote stomach or field except the crockpot, which was still slow cookin many family meals. : [ 0.31938717 -0.422028  ]\n",
      "=========================\n",
      "Placing her hand on the cool glass, she listened to the steady patter of raindrops on the window sill, mingling with the heart-piercing sound of Sam2 smooth trumpet. She wiped her moist eyes with her palm. Someday My Sam3 Will Come. That was she and Sam0's song, and she couldn't listen to it without falling into a reverie, without shedding a tear. He played it the first time they made love. Back then, he was her prince. : [0.44845816 0.28208163]\n",
      "=========================\n",
      "I think her and Sam0's song : [-0.4884345  -0.07838304]\n",
      "=========================\n",
      "Wet himself is more synonymous with peeing ones pants, then getting off, a different phrase would work better here. : [-0.3734052  -0.23480213]\n",
      "=========================\n",
      "Quotation requires correction. : [-0.25656864 -0.27784505]\n",
      "=========================\n",
      "I'm starting to think this is a joke, including your credentials. : [-0.2560922   0.25891623]\n",
      "=========================\n",
      "Suggested change to last sentence; 'if I would recognize him when he 'arrived.' : [-0.1211424  -0.01168829]\n",
      "=========================\n",
      "good show of action. : [-0.1045395   0.36448497]\n",
      "=========================\n",
      "[quote] I think you can do better here. Increase the tension and Fima's confident defiance. Something like: whatever you have to say, get on with it. Sam3 and I have better things to do than to listen to the likes of you. : [-0.05551201  0.36077413]\n",
      "=========================\n",
      "The beginning of this paragraph is suddenly in 3rd person, it should still be in first person. : [-0.05286582 -0.07646579]\n",
      "=========================\n",
      "Not sure what the last line means, but it sounds good. : [0.09590384 0.20950343]\n",
      "=========================\n",
      "Don't need any of the notes. : [0.09652301 0.16023213]\n",
      "=========================\n",
      "Ah good. I've been curious about how she managed to get involved with the pack while posing as a human : [ 0.10129666 -0.4277963 ]\n",
      "=========================\n",
      "I would like to see John0 be more vitriolic and bigoted. He seems too mild mannered. Give him more character. : [ 0.18854252 -0.02974804]\n",
      "=========================\n",
      "[quote] You can try Sam1 Sam2 morbidity\" instead of Sam1 Sam2 minutia\" and see if it works better for you. : [ 0.1992411 -0.2516517]\n",
      "=========================\n",
      "semicircular : [0.3121339  0.20127307]\n",
      "=========================\n",
      "It would have been nice to know what went through her head. Would it perhaps be that these are not her rules but the rules of society? : [0.32518813 0.19433272]\n",
      "=========================\n",
      "I once new a guy with a stutter who seemed to exhibit some frustration when you finished off his words for him, so I stopped doing it. I figured maybe he didn't like it when he didn't get his chance to finish his sentence. : [ 0.38976115 -0.36115426]\n"
     ]
    },
    {
     "data": {
      "image/png": "[encoded data removed]",
      "text/plain": [
       "<Figure size 432x288 with 2 Axes>"
      ]
     },
     "metadata": {
      "needs_background": "light"
     },
     "output_type": "display_data"
    }
   ],
   "source": [
    "(pass_encs, pass_batch), (rev_encs, rev_batch) = encode_rand_batch(16)\n",
    "\n",
    "U_p, pass_batch = pca_sort(pass_encs, pass_batch)\n",
    "U_r, rev_batch = pca_sort(rev_encs, rev_batch)\n",
    "\n",
    "fig, axs = plt.subplots(2)\n",
    "\n",
    "# Print all values\n",
    "for i, pass_ in enumerate(pass_batch):\n",
    "    print(\"=========================\")\n",
    "    print(pass_ + \" : \" + str(U_p[i]))\n",
    "\n",
    "for i, rev_ in enumerate(rev_batch):\n",
    "    print(\"=========================\")\n",
    "    print(rev_ + \" : \" + str(U_r[i]))\n",
    "\n",
    "# Plots\n",
    "U_x = [np.array([u[0] for u in U]) for U in [U_p, U_r]]\n",
    "U_y = [np.array([u[1] for u in U]) for U in [U_p, U_r]]\n",
    "       \n",
    "axs[0].scatter(U_x[0], U_y[0])\n",
    "axs[1].scatter(U_x[1], U_y[1])\n",
    "\n",
    "plt.show()"
   ]
  },
  {
   "cell_type": "markdown",
   "id": "709ee392",
   "metadata": {},
   "source": [
    "# N-Spherical Coordinate PCA\n",
    "Model embeddings $x_i$ are by default normalized to be points on a hypersphere ($||x_i||_2 = 1$). As such, any given $x_i \\in \\mathbb{R^n}$ can be parameterized by $n - 1$ angles $(\\phi_{i,1},\\ldots,\\phi_{i,n-1}) = \\phi_i \\ \\in [0,\\pi]^{n-1} \\times [-\\pi,\\pi)$. The formula for deriving $\\phi_i$ from $x_i$ is based on [this](https://en.wikipedia.org/wiki/N-sphere#Spherical_coordinates), with $r = 1$."
   ]
  },
  {
   "cell_type": "code",
   "execution_count": 68,
   "id": "45cfdf59",
   "metadata": {},
   "outputs": [
    {
     "name": "stdout",
     "output_type": "stream",
     "text": [
      "torch.Size([512, 2047])\n",
      "tensor(1.5713)\n"
     ]
    }
   ],
   "source": [
    "# assume x is normalized (l2 norm x_i = 1)\n",
    "# assumes d >= 3\n",
    "def spherical_coord(x):\n",
    "    n, d = x.shape\n",
    "    # -> unit n-sphere points\n",
    "\n",
    "    # phi[:,0:d-2] in [0, pi]\n",
    "    # phi[:,d-2] in [-pi, pi]\n",
    "    phi = torch.zeros_like(x)[:,:-1] # -> (n, d-1)\n",
    "\n",
    "    # value being curried to compute next angle\n",
    "    curr = x[:,d-1].pow(2) + x[:,d-2].pow(2)\n",
    "    \n",
    "    # compute last angle first (it has weird formula conditioned on x_d)\n",
    "    phi[:,d-2] = torch.acos(x[:,d-2] / curr.sqrt())\n",
    "    phi[:,d-2] = torch.where(x[:,d-1] >= 0, phi[:,d-2], 2 * np.pi - phi[:,d-2])\n",
    "    \n",
    "    # compute the rest\n",
    "    for i in reversed(range(0, d-2)):\n",
    "        curr += x[:,i].pow(2)\n",
    "        phi[:,i] = torch.acos(x[:,i] / curr.sqrt())\n",
    "\n",
    "    return phi\n",
    "\n",
    "x = normalize(torch.randn(512, 2048))\n",
    "y = spherical_coord(x)\n",
    "print(y.shape)\n",
    "\n",
    "# If angles are uniformly between 0 and pi on average (excluding the final one)\n",
    "# We expect mean angle to be pi/2 = ~ 1.57\n",
    "print(y.mean())"
   ]
  },
  {
   "cell_type": "code",
   "execution_count": 69,
   "id": "4e81257b",
   "metadata": {},
   "outputs": [
    {
     "name": "stdout",
     "output_type": "stream",
     "text": [
      "=========================\n",
      "John0 was unsure of what to say in response. He was kept from a dangerous task only to be assigned to it now. It took but a moment for John0 to come to the conclusion. He stared at his old friend who appeared more fragile than ever leaning upon the cartography table. Some of that cold frost melted from the uncertainty in Jarod’s eyes. Some design, some conspiracy or machination was at play and his friend, the Emperor Sam1 of the Sam2 Sam3 did not want him around for it's outcome. Did not desire that so stro : [-0.40285754 -0.01375995]\n",
      "=========================\n",
      "A crease marred the space between his step-mother’s eyebrows. Sam0 why didn’t you wait until we could all attend? Why the rush?” : [-0.39232075 -0.0669024 ]\n",
      "=========================\n",
      "“Yeah, I know I’m ‘Too Honest’ but it’s true.” : [-0.32947323 -0.30138394]\n",
      "=========================\n",
      "When he responded, John0's voice poured out of his mouth like honey. “Princess of Sam0 stories of your beauty do not do you justice.” : [-0.19099516 -0.11276398]\n",
      "=========================\n",
      "Friends and neighbors filed past Aunt TT, pressing condolences into her hand. John0 moved away from the mourners, avoiding them. The cloying scent of flowers followed him to the perimeter of their family plot where he stood and fixed his eyes on the open grave; his chest heaved and he turned away. The hawk screamed and he caught a flash of feathers as the bird glided northward. John0 searched for Bicycle Sam2 He was gone. : [-0.173131   0.2754618]\n",
      "=========================\n",
      "My self-consciousness of people I didn’t care about bid me adieu when they sat next to me. What a silly thing to get worked up about, right? The arrangement lasted until the teacher gave us a seating chart, and I was put in a table with a girl named Sam1 The third seat was empty, and we quickly became best friends. I can’t remember what actions or conversations we had that moved our relationship so quickly, but it somehow happened in an unconscious knitting together of things, the type of knitting together  : [-0.15407598 -0.0847894 ]\n",
      "=========================\n",
      "The family was fraught with barely disguised class warfare. It seems my branch of the family tree had rotted and fallen to the ground and Sam0 chose not to see. : [-0.08411126  0.15183939]\n",
      "=========================\n",
      "We know these girls. We’ve encountered too many of them. Their hearts have been broken and they are in a vulnerable state. They plan their days in a way so they accidently run into their exes, while looking their best. Desperately screaming for their attention without saying a word. At the end, someone else uses their fragility and leaves them more miserable than before. They are an easy target for guys and an embarrassing case amongst girls. I don’t want to be that person. I have a wholly different intenti : [-0.03082264 -0.13972802]\n",
      "=========================\n",
      "Sam1 shrugged. \"That's what everyone thought when Sam2 and I started the church, Sam0 Look at us now. We are opening up a new location next Sunday. Let the boy alone, Sam0 Be thankful he wants to do this on his own instead of asking us to foot the bill. : [0.09094483 0.584121  ]\n",
      "=========================\n",
      "“I think it’s dislocated,” she said. : [0.11998952 0.2592146 ]\n",
      "=========================\n",
      "I stole a look down the hall. With all that activity, no one paid attention to us. A sign on a door ahead read “Office.” I crept inside, hopefully before any of the other kids got a good look at me. : [0.13034871 0.29452845]\n",
      "=========================\n",
      "I squished my face and shook my head a second time. “That doesn’t sound like no fun at all,” I said. : [ 0.19305582 -0.07276727]\n",
      "=========================\n",
      "Sam0 She said “Naughty boy!” She gave him a fetching smile leaned over to kiss him. Winked at him, waggled a finger at him as if he was a boy and she the mother. : [ 0.22028968 -0.18038878]\n",
      "=========================\n",
      "Some things, he reckoned, never changed: two years back, the night of his arrest had started very much the same. : [ 0.24373417 -0.42786574]\n",
      "=========================\n",
      "“This is great. More than enough.” He was still full from the beer he’d drunk. “Come and sit down.” : [0.3371748  0.05281251]\n",
      "=========================\n",
      "‘Well, its elaborateness, its very existence denies the presence of humility and simplicity. I think it ungodly Unction, to be frank. This also could be said about the art in this house.’ : [ 0.4224571  -0.21750627]\n",
      "=========================\n",
      "Ahah. Somebody evidently was. : [-0.3793838   0.08804807]\n",
      "=========================\n",
      "But do you really need this? [quote] : [-0.3311138   0.05827237]\n",
      "=========================\n",
      "but a full stop and new sentence needed after elaborateness. : [-0.26649806  0.31928796]\n",
      "=========================\n",
      "nice use of smell in here, : [-0.24005857 -0.05501497]\n",
      "=========================\n",
      "Maybe it's just me, but Sam0 seems both too cliche for a Sam2 counterpart culture in fantasy, and too on the nose being a real world synonym for Sam3 (as I'm sure you are more than aware), maybe an alternative with a similar root sound would work better here. : [-0.16975598 -0.6098814 ]\n",
      "=========================\n",
      "I feel the first and second sentences have been switched. Surely she would first be relieved nobody was likely to spot her, then look down the hall, and see a door ahead marked \"Office\". : [-0.16669787  0.42070282]\n",
      "=========================\n",
      "[My self-consciousness of people I didn’t care about bid me adieu when they sat next to me. This doesn't flow right for me. I think I understand what he's saying, but I had to stop and think about it - it breaks the flow. I was put in a table Should this be, \"...at a table,\" or does the table open up? : [-0.1539629 -0.142992 ]\n",
      "=========================\n",
      "Cut second Sam0 : [-0.09481277 -0.03486597]\n",
      "=========================\n",
      "Confusion about who is \"she : [ 0.03568869 -0.35393703]\n",
      "=========================\n",
      "Try I have an entirely different intention. : [ 0.059143   -0.05713301]\n",
      "=========================\n",
      "This dialogue sounds more like what I imagine you want her voice to consistently be throughout the story. The rest of her dialogue reads nearly accentless and doesn't match the voice present in this sentence. : [0.20717186 0.11260937]\n",
      "=========================\n",
      "How did it start? I'm still confused as to how this day started. : [ 0.20797767 -0.08058675]\n",
      "=========================\n",
      "'still full' — not at 21! : [0.23212865 0.11533926]\n",
      "=========================\n",
      "these Sam0 and H and G, are distracting, and i don't know what they are supposed to mean. : [0.30380458 0.1157069 ]\n",
      "=========================\n",
      "Ah, so that's what her shirt says. So, what the shirt says is accurate for everyone then? Sam0 is too honest, and that other guy is annoying but sweet? So Jane0 is really heartless? Maybe show her being heartless some more. : [0.32767242 0.31051895]\n",
      "=========================\n",
      "I feel like this is important but it is a bit telling too, I don't think this is necessary to have this, as you reveal it with the dialogue below, so you are kinda repeating yourself in two different ways. : [ 0.42893672 -0.20602883]\n"
     ]
    },
    {
     "data": {
      "image/png": "[encoded data removed]",
      "text/plain": [
       "<Figure size 432x288 with 2 Axes>"
      ]
     },
     "metadata": {
      "needs_background": "light"
     },
     "output_type": "display_data"
    }
   ],
   "source": [
    "(pass_encs, pass_batch), (rev_encs, rev_batch) = encode_rand_batch(16)\n",
    "\n",
    "pass_encs = spherical_coord(pass_encs)\n",
    "rev_encs = spherical_coord(rev_encs)\n",
    "\n",
    "U_p, pass_batch = pca_sort(pass_encs, pass_batch)\n",
    "U_r, rev_batch = pca_sort(rev_encs, rev_batch)\n",
    "\n",
    "fig, axs = plt.subplots(2)\n",
    "\n",
    "# Print all values\n",
    "for i, pass_ in enumerate(pass_batch):\n",
    "    print(\"=========================\")\n",
    "    print(pass_ + \" : \" + str(U_p[i]))\n",
    "\n",
    "for i, rev_ in enumerate(rev_batch):\n",
    "    print(\"=========================\")\n",
    "    print(rev_ + \" : \" + str(U_r[i]))\n",
    "\n",
    "# Plots\n",
    "U_x = [np.array([u[0] for u in U]) for U in [U_p, U_r]]\n",
    "U_y = [np.array([u[1] for u in U]) for U in [U_p, U_r]]\n",
    "       \n",
    "axs[0].scatter(U_x[0], U_y[0])\n",
    "axs[1].scatter(U_x[1], U_y[1])\n",
    "\n",
    "plt.show()"
   ]
  },
  {
   "cell_type": "markdown",
   "id": "e6698f15",
   "metadata": {},
   "source": [
    "# Compare Spherical To Normal"
   ]
  },
  {
   "cell_type": "code",
   "execution_count": 70,
   "id": "2ea021cc",
   "metadata": {},
   "outputs": [
    {
     "data": {
      "text/plain": [
       "<matplotlib.collections.PathCollection at 0x7fdb4eb61350>"
      ]
     },
     "execution_count": 70,
     "metadata": {},
     "output_type": "execute_result"
    },
    {
     "data": {
      "image/png": "[encoded data removed]",
      "text/plain": [
       "<Figure size 432x288 with 4 Axes>"
      ]
     },
     "metadata": {
      "needs_background": "light"
     },
     "output_type": "display_data"
    }
   ],
   "source": [
    "(pass_encs, pass_batch), (rev_encs, rev_batch) = encode_rand_batch(16)\n",
    "\n",
    "U_p_sphere, pass_batch_sphere = pca_sort(spherical_coord(pass_encs), pass_batch)\n",
    "U_p, pass_batch = pca_sort(pass_encs, pass_batch)\n",
    "U_r_sphere, rev_batch_sphere = pca_sort(spherical_coord(rev_encs), rev_batch)\n",
    "U_r, rev_batch = pca_sort(rev_encs, rev_batch)\n",
    "\n",
    "U_x = [np.array([u[0] for u in U]) for U in [U_p, U_p_sphere, U_r, U_r_sphere]]\n",
    "U_y = [np.array([u[1] for u in U]) for U in [U_p, U_p_sphere, U_r, U_r_sphere]]\n",
    "\n",
    "fig, axs = plt.subplots(2,2)\n",
    "axs[0,0].scatter(U_x[0], U_y[0])\n",
    "axs[0,1].scatter(U_x[1], U_y[1])\n",
    "axs[1,0].scatter(U_x[2], U_y[2])\n",
    "axs[1,1].scatter(U_x[3], U_y[3])"
   ]
  },
  {
   "cell_type": "code",
   "execution_count": null,
   "id": "c8b78a87",
   "metadata": {},
   "outputs": [],
   "source": []
  }
 ],
 "metadata": {
  "kernelspec": {
   "display_name": "Python 3 (ipykernel)",
   "language": "python",
   "name": "python3"
  },
  "language_info": {
   "codemirror_mode": {
    "name": "ipython",
    "version": 3
   },
   "file_extension": ".py",
   "mimetype": "text/x-python",
   "name": "python",
   "nbconvert_exporter": "python",
   "pygments_lexer": "ipython3",
   "version": "3.7.6"
  }
 },
 "nbformat": 4,
 "nbformat_minor": 5
}
